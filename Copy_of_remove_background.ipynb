{
  "cells": [
    {
      "cell_type": "markdown",
      "metadata": {
        "id": "view-in-github",
        "colab_type": "text"
      },
      "source": [
        "<a href=\"https://colab.research.google.com/github/sam12r18/baloot/blob/master/Copy_of_remove_background.ipynb\" target=\"_parent\"><img src=\"https://colab.research.google.com/assets/colab-badge.svg\" alt=\"Open In Colab\"/></a>"
      ]
    },
    {
      "cell_type": "code",
      "execution_count": null,
      "metadata": {
        "id": "l_B96YUZ_c69",
        "colab": {
          "base_uri": "https://localhost:8080/"
        },
        "outputId": "d6f10072-5ef6-4437-db52-327a2a35ba94"
      },
      "outputs": [
        {
          "output_type": "stream",
          "name": "stdout",
          "text": [
            "/content/drive/MyDrive/Colab Notebooks\n"
          ]
        }
      ],
      "source": [
        "%cd drive/MyDrive/Colab Notebooks"
      ]
    },
    {
      "cell_type": "markdown",
      "source": [],
      "metadata": {
        "id": "B_89mbjN36P0"
      }
    },
    {
      "cell_type": "code",
      "source": [
        "from google.colab import drive\n",
        "drive.mount('/content/drive')"
      ],
      "metadata": {
        "id": "Ev4AD3NSOykW",
        "colab": {
          "base_uri": "https://localhost:8080/"
        },
        "outputId": "93653127-218b-4ec4-f123-20aededefa57"
      },
      "execution_count": null,
      "outputs": [
        {
          "output_type": "stream",
          "name": "stdout",
          "text": [
            "Drive already mounted at /content/drive; to attempt to forcibly remount, call drive.mount(\"/content/drive\", force_remount=True).\n"
          ]
        }
      ]
    },
    {
      "cell_type": "code",
      "execution_count": null,
      "metadata": {
        "id": "kmz4poTzrEP_",
        "colab": {
          "base_uri": "https://localhost:8080/"
        },
        "outputId": "89c924af-20e8-4382-d051-b7f9bca8b382"
      },
      "outputs": [
        {
          "output_type": "stream",
          "name": "stdout",
          "text": [
            "Processing ./background_remove/transparent-background\n",
            "  Installing build dependencies ... \u001b[?25l\u001b[?25hdone\n",
            "  Getting requirements to build wheel ... \u001b[?25l\u001b[?25hdone\n",
            "  Preparing metadata (pyproject.toml) ... \u001b[?25l\u001b[?25hdone\n",
            "Requirement already satisfied: torch>=1.7.1 in /usr/local/lib/python3.10/dist-packages (from transparent-background==1.2.4) (2.5.1+cu121)\n",
            "Requirement already satisfied: torchvision>=0.8.2 in /usr/local/lib/python3.10/dist-packages (from transparent-background==1.2.4) (0.20.1+cu121)\n",
            "Requirement already satisfied: opencv-python>=4.6.0.66 in /usr/local/lib/python3.10/dist-packages (from transparent-background==1.2.4) (4.10.0.84)\n",
            "Requirement already satisfied: timm>=0.6.11 in /usr/local/lib/python3.10/dist-packages (from transparent-background==1.2.4) (1.0.11)\n",
            "Requirement already satisfied: tqdm>=4.64.1 in /usr/local/lib/python3.10/dist-packages (from transparent-background==1.2.4) (4.66.6)\n",
            "Collecting kornia>=0.5.4 (from transparent-background==1.2.4)\n",
            "  Downloading kornia-0.7.4-py2.py3-none-any.whl.metadata (18 kB)\n",
            "Requirement already satisfied: gdown>=4.5.4 in /usr/local/lib/python3.10/dist-packages (from transparent-background==1.2.4) (5.2.0)\n",
            "Collecting pyvirtualcam>=0.6.0 (from transparent-background==1.2.4)\n",
            "  Downloading pyvirtualcam-0.12.0-cp310-cp310-manylinux_2_17_x86_64.manylinux2014_x86_64.whl.metadata (5.3 kB)\n",
            "Requirement already satisfied: beautifulsoup4 in /usr/local/lib/python3.10/dist-packages (from gdown>=4.5.4->transparent-background==1.2.4) (4.12.3)\n",
            "Requirement already satisfied: filelock in /usr/local/lib/python3.10/dist-packages (from gdown>=4.5.4->transparent-background==1.2.4) (3.16.1)\n",
            "Requirement already satisfied: requests[socks] in /usr/local/lib/python3.10/dist-packages (from gdown>=4.5.4->transparent-background==1.2.4) (2.32.3)\n",
            "Collecting kornia-rs>=0.1.0 (from kornia>=0.5.4->transparent-background==1.2.4)\n",
            "  Downloading kornia_rs-0.1.7-cp310-cp310-manylinux_2_17_x86_64.manylinux2014_x86_64.whl.metadata (9.1 kB)\n",
            "Requirement already satisfied: packaging in /usr/local/lib/python3.10/dist-packages (from kornia>=0.5.4->transparent-background==1.2.4) (24.2)\n",
            "Requirement already satisfied: numpy>=1.21.2 in /usr/local/lib/python3.10/dist-packages (from opencv-python>=4.6.0.66->transparent-background==1.2.4) (1.26.4)\n",
            "Requirement already satisfied: pyyaml in /usr/local/lib/python3.10/dist-packages (from timm>=0.6.11->transparent-background==1.2.4) (6.0.2)\n",
            "Requirement already satisfied: huggingface_hub in /usr/local/lib/python3.10/dist-packages (from timm>=0.6.11->transparent-background==1.2.4) (0.26.2)\n",
            "Requirement already satisfied: safetensors in /usr/local/lib/python3.10/dist-packages (from timm>=0.6.11->transparent-background==1.2.4) (0.4.5)\n",
            "Requirement already satisfied: typing-extensions>=4.8.0 in /usr/local/lib/python3.10/dist-packages (from torch>=1.7.1->transparent-background==1.2.4) (4.12.2)\n",
            "Requirement already satisfied: networkx in /usr/local/lib/python3.10/dist-packages (from torch>=1.7.1->transparent-background==1.2.4) (3.4.2)\n",
            "Requirement already satisfied: jinja2 in /usr/local/lib/python3.10/dist-packages (from torch>=1.7.1->transparent-background==1.2.4) (3.1.4)\n",
            "Requirement already satisfied: fsspec in /usr/local/lib/python3.10/dist-packages (from torch>=1.7.1->transparent-background==1.2.4) (2024.10.0)\n",
            "Requirement already satisfied: sympy==1.13.1 in /usr/local/lib/python3.10/dist-packages (from torch>=1.7.1->transparent-background==1.2.4) (1.13.1)\n",
            "Requirement already satisfied: mpmath<1.4,>=1.1.0 in /usr/local/lib/python3.10/dist-packages (from sympy==1.13.1->torch>=1.7.1->transparent-background==1.2.4) (1.3.0)\n",
            "Requirement already satisfied: pillow!=8.3.*,>=5.3.0 in /usr/local/lib/python3.10/dist-packages (from torchvision>=0.8.2->transparent-background==1.2.4) (11.0.0)\n",
            "Requirement already satisfied: soupsieve>1.2 in /usr/local/lib/python3.10/dist-packages (from beautifulsoup4->gdown>=4.5.4->transparent-background==1.2.4) (2.6)\n",
            "Requirement already satisfied: MarkupSafe>=2.0 in /usr/local/lib/python3.10/dist-packages (from jinja2->torch>=1.7.1->transparent-background==1.2.4) (3.0.2)\n",
            "Requirement already satisfied: charset-normalizer<4,>=2 in /usr/local/lib/python3.10/dist-packages (from requests[socks]->gdown>=4.5.4->transparent-background==1.2.4) (3.4.0)\n",
            "Requirement already satisfied: idna<4,>=2.5 in /usr/local/lib/python3.10/dist-packages (from requests[socks]->gdown>=4.5.4->transparent-background==1.2.4) (3.10)\n",
            "Requirement already satisfied: urllib3<3,>=1.21.1 in /usr/local/lib/python3.10/dist-packages (from requests[socks]->gdown>=4.5.4->transparent-background==1.2.4) (2.2.3)\n",
            "Requirement already satisfied: certifi>=2017.4.17 in /usr/local/lib/python3.10/dist-packages (from requests[socks]->gdown>=4.5.4->transparent-background==1.2.4) (2024.8.30)\n",
            "Requirement already satisfied: PySocks!=1.5.7,>=1.5.6 in /usr/local/lib/python3.10/dist-packages (from requests[socks]->gdown>=4.5.4->transparent-background==1.2.4) (1.7.1)\n",
            "Downloading kornia-0.7.4-py2.py3-none-any.whl (899 kB)\n",
            "\u001b[2K   \u001b[90m━━━━━━━━━━━━━━━━━━━━━━━━━━━━━━━━━━━━━━━━\u001b[0m \u001b[32m899.4/899.4 kB\u001b[0m \u001b[31m13.6 MB/s\u001b[0m eta \u001b[36m0:00:00\u001b[0m\n",
            "\u001b[?25hDownloading pyvirtualcam-0.12.0-cp310-cp310-manylinux_2_17_x86_64.manylinux2014_x86_64.whl (144 kB)\n",
            "\u001b[2K   \u001b[90m━━━━━━━━━━━━━━━━━━━━━━━━━━━━━━━━━━━━━━━━\u001b[0m \u001b[32m144.4/144.4 kB\u001b[0m \u001b[31m9.3 MB/s\u001b[0m eta \u001b[36m0:00:00\u001b[0m\n",
            "\u001b[?25hDownloading kornia_rs-0.1.7-cp310-cp310-manylinux_2_17_x86_64.manylinux2014_x86_64.whl (1.6 MB)\n",
            "\u001b[2K   \u001b[90m━━━━━━━━━━━━━━━━━━━━━━━━━━━━━━━━━━━━━━━━\u001b[0m \u001b[32m1.6/1.6 MB\u001b[0m \u001b[31m45.0 MB/s\u001b[0m eta \u001b[36m0:00:00\u001b[0m\n",
            "\u001b[?25hBuilding wheels for collected packages: transparent-background\n",
            "  Building wheel for transparent-background (pyproject.toml) ... \u001b[?25l\u001b[?25hdone\n",
            "  Created wheel for transparent-background: filename=transparent_background-1.2.4-py3-none-any.whl size=19959 sha256=57ffb6b97dd98903529853fd98ddd0347f555deb1f4f46a44d8148f426fa54f1\n",
            "  Stored in directory: /root/.cache/pip/wheels/aa/92/f7/cf539aa2c5998945d8305438d9a1fe3036f3be4bd7fe1580ad\n",
            "Successfully built transparent-background\n",
            "Installing collected packages: pyvirtualcam, kornia-rs, kornia, transparent-background\n",
            "Successfully installed kornia-0.7.4 kornia-rs-0.1.7 pyvirtualcam-0.12.0 transparent-background-1.2.4\n"
          ]
        }
      ],
      "source": [
        "!pip install ./background_remove/transparent-background/"
      ]
    },
    {
      "cell_type": "code",
      "execution_count": null,
      "metadata": {
        "id": "_g-K7VNRrXSu",
        "colab": {
          "base_uri": "https://localhost:8080/"
        },
        "outputId": "7d31e791-c154-4047-97a8-bc3d69ff9e1d"
      },
      "outputs": [
        {
          "output_type": "stream",
          "name": "stdout",
          "text": [
            "Processing ./background_remove/image-upscale\n",
            "  Preparing metadata (setup.py) ... \u001b[?25l\u001b[?25hdone\n",
            "Requirement already satisfied: numpy in /usr/local/lib/python3.10/dist-packages (from RealESRGAN==1.0) (1.26.4)\n",
            "Requirement already satisfied: opencv-python in /usr/local/lib/python3.10/dist-packages (from RealESRGAN==1.0) (4.10.0.84)\n",
            "Requirement already satisfied: Pillow in /usr/local/lib/python3.10/dist-packages (from RealESRGAN==1.0) (11.0.0)\n",
            "Requirement already satisfied: torch>=1.7 in /usr/local/lib/python3.10/dist-packages (from RealESRGAN==1.0) (2.5.1+cu121)\n",
            "Requirement already satisfied: torchvision>=0.8.0 in /usr/local/lib/python3.10/dist-packages (from RealESRGAN==1.0) (0.20.1+cu121)\n",
            "Requirement already satisfied: tqdm in /usr/local/lib/python3.10/dist-packages (from RealESRGAN==1.0) (4.66.6)\n",
            "Requirement already satisfied: huggingface-hub in /usr/local/lib/python3.10/dist-packages (from RealESRGAN==1.0) (0.26.2)\n",
            "Requirement already satisfied: filelock in /usr/local/lib/python3.10/dist-packages (from torch>=1.7->RealESRGAN==1.0) (3.16.1)\n",
            "Requirement already satisfied: typing-extensions>=4.8.0 in /usr/local/lib/python3.10/dist-packages (from torch>=1.7->RealESRGAN==1.0) (4.12.2)\n",
            "Requirement already satisfied: networkx in /usr/local/lib/python3.10/dist-packages (from torch>=1.7->RealESRGAN==1.0) (3.4.2)\n",
            "Requirement already satisfied: jinja2 in /usr/local/lib/python3.10/dist-packages (from torch>=1.7->RealESRGAN==1.0) (3.1.4)\n",
            "Requirement already satisfied: fsspec in /usr/local/lib/python3.10/dist-packages (from torch>=1.7->RealESRGAN==1.0) (2024.10.0)\n",
            "Requirement already satisfied: sympy==1.13.1 in /usr/local/lib/python3.10/dist-packages (from torch>=1.7->RealESRGAN==1.0) (1.13.1)\n",
            "Requirement already satisfied: mpmath<1.4,>=1.1.0 in /usr/local/lib/python3.10/dist-packages (from sympy==1.13.1->torch>=1.7->RealESRGAN==1.0) (1.3.0)\n",
            "Requirement already satisfied: packaging>=20.9 in /usr/local/lib/python3.10/dist-packages (from huggingface-hub->RealESRGAN==1.0) (24.2)\n",
            "Requirement already satisfied: pyyaml>=5.1 in /usr/local/lib/python3.10/dist-packages (from huggingface-hub->RealESRGAN==1.0) (6.0.2)\n",
            "Requirement already satisfied: requests in /usr/local/lib/python3.10/dist-packages (from huggingface-hub->RealESRGAN==1.0) (2.32.3)\n",
            "Requirement already satisfied: MarkupSafe>=2.0 in /usr/local/lib/python3.10/dist-packages (from jinja2->torch>=1.7->RealESRGAN==1.0) (3.0.2)\n",
            "Requirement already satisfied: charset-normalizer<4,>=2 in /usr/local/lib/python3.10/dist-packages (from requests->huggingface-hub->RealESRGAN==1.0) (3.4.0)\n",
            "Requirement already satisfied: idna<4,>=2.5 in /usr/local/lib/python3.10/dist-packages (from requests->huggingface-hub->RealESRGAN==1.0) (3.10)\n",
            "Requirement already satisfied: urllib3<3,>=1.21.1 in /usr/local/lib/python3.10/dist-packages (from requests->huggingface-hub->RealESRGAN==1.0) (2.2.3)\n",
            "Requirement already satisfied: certifi>=2017.4.17 in /usr/local/lib/python3.10/dist-packages (from requests->huggingface-hub->RealESRGAN==1.0) (2024.8.30)\n",
            "Building wheels for collected packages: RealESRGAN\n",
            "  Building wheel for RealESRGAN (setup.py) ... \u001b[?25l\u001b[?25hdone\n",
            "  Created wheel for RealESRGAN: filename=RealESRGAN-1.0-py3-none-any.whl size=8099 sha256=e757df0c0c98e715e8cd33717e3455a4f2071bc4918aae6ebee9d7266de890a0\n",
            "  Stored in directory: /root/.cache/pip/wheels/2f/d1/7d/5a1d8c12f9aa098fee50f651ed58c0800034ee827e5002c460\n",
            "Successfully built RealESRGAN\n",
            "Installing collected packages: RealESRGAN\n",
            "Successfully installed RealESRGAN-1.0\n"
          ]
        }
      ],
      "source": [
        "!pip install ./background_remove/image-upscale/"
      ]
    },
    {
      "cell_type": "code",
      "execution_count": null,
      "metadata": {
        "id": "dCnhE7FHrgTD",
        "colab": {
          "base_uri": "https://localhost:8080/"
        },
        "outputId": "c06851e7-890e-4251-a972-3243684f5170"
      },
      "outputs": [
        {
          "output_type": "stream",
          "name": "stdout",
          "text": [
            "Processing ./background_remove/faceorienter\n",
            "  Preparing metadata (setup.py) ... \u001b[?25l\u001b[?25hdone\n",
            "Collecting dlib==19.15.0 (from faceorienter==0.1)\n",
            "  Downloading dlib-19.15.0.tar.gz (3.3 MB)\n",
            "\u001b[2K     \u001b[90m━━━━━━━━━━━━━━━━━━━━━━━━━━━━━━━━━━━━━━━━\u001b[0m \u001b[32m3.3/3.3 MB\u001b[0m \u001b[31m24.0 MB/s\u001b[0m eta \u001b[36m0:00:00\u001b[0m\n",
            "\u001b[?25h  Preparing metadata (setup.py) ... \u001b[?25l\u001b[?25hdone\n",
            "Collecting Flask==1.0.2 (from faceorienter==0.1)\n",
            "  Downloading Flask-1.0.2-py2.py3-none-any.whl.metadata (4.2 kB)\n",
            "Collecting numpy==1.15.1 (from faceorienter==0.1)\n",
            "  Downloading numpy-1.15.1.zip (4.5 MB)\n",
            "\u001b[2K     \u001b[90m━━━━━━━━━━━━━━━━━━━━━━━━━━━━━━━━━━━━━━━━\u001b[0m \u001b[32m4.5/4.5 MB\u001b[0m \u001b[31m23.8 MB/s\u001b[0m eta \u001b[36m0:00:00\u001b[0m\n",
            "\u001b[?25h  Preparing metadata (setup.py) ... \u001b[?25l\u001b[?25hdone\n",
            "Collecting opencv-python==3.4.10.37 (from faceorienter==0.1)\n",
            "  Downloading opencv-python-3.4.10.37.tar.gz (87.5 MB)\n",
            "\u001b[2K     \u001b[90m━━━━━━━━━━━━━━━━━━━━━━━━━━━━━━━━━━━━━━━━\u001b[0m \u001b[32m87.5/87.5 MB\u001b[0m \u001b[31m7.9 MB/s\u001b[0m eta \u001b[36m0:00:00\u001b[0m\n",
            "\u001b[?25h  \u001b[1;31merror\u001b[0m: \u001b[1msubprocess-exited-with-error\u001b[0m\n",
            "  \n",
            "  \u001b[31m×\u001b[0m \u001b[32mpip subprocess to install build dependencies\u001b[0m did not run successfully.\n",
            "  \u001b[31m│\u001b[0m exit code: \u001b[1;36m1\u001b[0m\n",
            "  \u001b[31m╰─>\u001b[0m See above for output.\n",
            "  \n",
            "  \u001b[1;35mnote\u001b[0m: This error originates from a subprocess, and is likely not a problem with pip.\n",
            "  Installing build dependencies ... \u001b[?25l\u001b[?25herror\n",
            "\u001b[1;31merror\u001b[0m: \u001b[1msubprocess-exited-with-error\u001b[0m\n",
            "\n",
            "\u001b[31m×\u001b[0m \u001b[32mpip subprocess to install build dependencies\u001b[0m did not run successfully.\n",
            "\u001b[31m│\u001b[0m exit code: \u001b[1;36m1\u001b[0m\n",
            "\u001b[31m╰─>\u001b[0m See above for output.\n",
            "\n",
            "\u001b[1;35mnote\u001b[0m: This error originates from a subprocess, and is likely not a problem with pip.\n"
          ]
        }
      ],
      "source": [
        "!pip install ./background_remove/faceorienter/"
      ]
    },
    {
      "cell_type": "code",
      "execution_count": null,
      "metadata": {
        "id": "FCazinaHrk0r"
      },
      "outputs": [],
      "source": [
        "#!pip install face_recognition"
      ]
    },
    {
      "cell_type": "code",
      "execution_count": null,
      "metadata": {
        "id": "OcMacjbrrtEq",
        "colab": {
          "base_uri": "https://localhost:8080/"
        },
        "outputId": "1c8a40aa-4f0b-4596-b078-90e243d5e046"
      },
      "outputs": [
        {
          "output_type": "stream",
          "name": "stdout",
          "text": [
            "Collecting retina-face\n",
            "  Downloading retina_face-0.0.17-py3-none-any.whl.metadata (10 kB)\n",
            "Requirement already satisfied: numpy>=1.14.0 in /usr/local/lib/python3.10/dist-packages (from retina-face) (1.26.4)\n",
            "Requirement already satisfied: gdown>=3.10.1 in /usr/local/lib/python3.10/dist-packages (from retina-face) (5.2.0)\n",
            "Requirement already satisfied: Pillow>=5.2.0 in /usr/local/lib/python3.10/dist-packages (from retina-face) (11.0.0)\n",
            "Requirement already satisfied: opencv-python>=3.4.4 in /usr/local/lib/python3.10/dist-packages (from retina-face) (4.10.0.84)\n",
            "Requirement already satisfied: tensorflow>=1.9.0 in /usr/local/lib/python3.10/dist-packages (from retina-face) (2.17.1)\n",
            "Requirement already satisfied: beautifulsoup4 in /usr/local/lib/python3.10/dist-packages (from gdown>=3.10.1->retina-face) (4.12.3)\n",
            "Requirement already satisfied: filelock in /usr/local/lib/python3.10/dist-packages (from gdown>=3.10.1->retina-face) (3.16.1)\n",
            "Requirement already satisfied: requests[socks] in /usr/local/lib/python3.10/dist-packages (from gdown>=3.10.1->retina-face) (2.32.3)\n",
            "Requirement already satisfied: tqdm in /usr/local/lib/python3.10/dist-packages (from gdown>=3.10.1->retina-face) (4.66.6)\n",
            "Requirement already satisfied: absl-py>=1.0.0 in /usr/local/lib/python3.10/dist-packages (from tensorflow>=1.9.0->retina-face) (1.4.0)\n",
            "Requirement already satisfied: astunparse>=1.6.0 in /usr/local/lib/python3.10/dist-packages (from tensorflow>=1.9.0->retina-face) (1.6.3)\n",
            "Requirement already satisfied: flatbuffers>=24.3.25 in /usr/local/lib/python3.10/dist-packages (from tensorflow>=1.9.0->retina-face) (24.3.25)\n",
            "Requirement already satisfied: gast!=0.5.0,!=0.5.1,!=0.5.2,>=0.2.1 in /usr/local/lib/python3.10/dist-packages (from tensorflow>=1.9.0->retina-face) (0.6.0)\n",
            "Requirement already satisfied: google-pasta>=0.1.1 in /usr/local/lib/python3.10/dist-packages (from tensorflow>=1.9.0->retina-face) (0.2.0)\n",
            "Requirement already satisfied: h5py>=3.10.0 in /usr/local/lib/python3.10/dist-packages (from tensorflow>=1.9.0->retina-face) (3.12.1)\n",
            "Requirement already satisfied: libclang>=13.0.0 in /usr/local/lib/python3.10/dist-packages (from tensorflow>=1.9.0->retina-face) (18.1.1)\n",
            "Requirement already satisfied: ml-dtypes<0.5.0,>=0.3.1 in /usr/local/lib/python3.10/dist-packages (from tensorflow>=1.9.0->retina-face) (0.4.1)\n",
            "Requirement already satisfied: opt-einsum>=2.3.2 in /usr/local/lib/python3.10/dist-packages (from tensorflow>=1.9.0->retina-face) (3.4.0)\n",
            "Requirement already satisfied: packaging in /usr/local/lib/python3.10/dist-packages (from tensorflow>=1.9.0->retina-face) (24.2)\n",
            "Requirement already satisfied: protobuf!=4.21.0,!=4.21.1,!=4.21.2,!=4.21.3,!=4.21.4,!=4.21.5,<5.0.0dev,>=3.20.3 in /usr/local/lib/python3.10/dist-packages (from tensorflow>=1.9.0->retina-face) (4.25.5)\n",
            "Requirement already satisfied: setuptools in /usr/local/lib/python3.10/dist-packages (from tensorflow>=1.9.0->retina-face) (75.1.0)\n",
            "Requirement already satisfied: six>=1.12.0 in /usr/local/lib/python3.10/dist-packages (from tensorflow>=1.9.0->retina-face) (1.16.0)\n",
            "Requirement already satisfied: termcolor>=1.1.0 in /usr/local/lib/python3.10/dist-packages (from tensorflow>=1.9.0->retina-face) (2.5.0)\n",
            "Requirement already satisfied: typing-extensions>=3.6.6 in /usr/local/lib/python3.10/dist-packages (from tensorflow>=1.9.0->retina-face) (4.12.2)\n",
            "Requirement already satisfied: wrapt>=1.11.0 in /usr/local/lib/python3.10/dist-packages (from tensorflow>=1.9.0->retina-face) (1.16.0)\n",
            "Requirement already satisfied: grpcio<2.0,>=1.24.3 in /usr/local/lib/python3.10/dist-packages (from tensorflow>=1.9.0->retina-face) (1.67.1)\n",
            "Requirement already satisfied: tensorboard<2.18,>=2.17 in /usr/local/lib/python3.10/dist-packages (from tensorflow>=1.9.0->retina-face) (2.17.1)\n",
            "Requirement already satisfied: keras>=3.2.0 in /usr/local/lib/python3.10/dist-packages (from tensorflow>=1.9.0->retina-face) (3.5.0)\n",
            "Requirement already satisfied: tensorflow-io-gcs-filesystem>=0.23.1 in /usr/local/lib/python3.10/dist-packages (from tensorflow>=1.9.0->retina-face) (0.37.1)\n",
            "Requirement already satisfied: wheel<1.0,>=0.23.0 in /usr/local/lib/python3.10/dist-packages (from astunparse>=1.6.0->tensorflow>=1.9.0->retina-face) (0.45.0)\n",
            "Requirement already satisfied: rich in /usr/local/lib/python3.10/dist-packages (from keras>=3.2.0->tensorflow>=1.9.0->retina-face) (13.9.4)\n",
            "Requirement already satisfied: namex in /usr/local/lib/python3.10/dist-packages (from keras>=3.2.0->tensorflow>=1.9.0->retina-face) (0.0.8)\n",
            "Requirement already satisfied: optree in /usr/local/lib/python3.10/dist-packages (from keras>=3.2.0->tensorflow>=1.9.0->retina-face) (0.13.1)\n",
            "Requirement already satisfied: charset-normalizer<4,>=2 in /usr/local/lib/python3.10/dist-packages (from requests[socks]->gdown>=3.10.1->retina-face) (3.4.0)\n",
            "Requirement already satisfied: idna<4,>=2.5 in /usr/local/lib/python3.10/dist-packages (from requests[socks]->gdown>=3.10.1->retina-face) (3.10)\n",
            "Requirement already satisfied: urllib3<3,>=1.21.1 in /usr/local/lib/python3.10/dist-packages (from requests[socks]->gdown>=3.10.1->retina-face) (2.2.3)\n",
            "Requirement already satisfied: certifi>=2017.4.17 in /usr/local/lib/python3.10/dist-packages (from requests[socks]->gdown>=3.10.1->retina-face) (2024.8.30)\n",
            "Requirement already satisfied: markdown>=2.6.8 in /usr/local/lib/python3.10/dist-packages (from tensorboard<2.18,>=2.17->tensorflow>=1.9.0->retina-face) (3.7)\n",
            "Requirement already satisfied: tensorboard-data-server<0.8.0,>=0.7.0 in /usr/local/lib/python3.10/dist-packages (from tensorboard<2.18,>=2.17->tensorflow>=1.9.0->retina-face) (0.7.2)\n",
            "Requirement already satisfied: werkzeug>=1.0.1 in /usr/local/lib/python3.10/dist-packages (from tensorboard<2.18,>=2.17->tensorflow>=1.9.0->retina-face) (3.1.3)\n",
            "Requirement already satisfied: soupsieve>1.2 in /usr/local/lib/python3.10/dist-packages (from beautifulsoup4->gdown>=3.10.1->retina-face) (2.6)\n",
            "Requirement already satisfied: PySocks!=1.5.7,>=1.5.6 in /usr/local/lib/python3.10/dist-packages (from requests[socks]->gdown>=3.10.1->retina-face) (1.7.1)\n",
            "Requirement already satisfied: MarkupSafe>=2.1.1 in /usr/local/lib/python3.10/dist-packages (from werkzeug>=1.0.1->tensorboard<2.18,>=2.17->tensorflow>=1.9.0->retina-face) (3.0.2)\n",
            "Requirement already satisfied: markdown-it-py>=2.2.0 in /usr/local/lib/python3.10/dist-packages (from rich->keras>=3.2.0->tensorflow>=1.9.0->retina-face) (3.0.0)\n",
            "Requirement already satisfied: pygments<3.0.0,>=2.13.0 in /usr/local/lib/python3.10/dist-packages (from rich->keras>=3.2.0->tensorflow>=1.9.0->retina-face) (2.18.0)\n",
            "Requirement already satisfied: mdurl~=0.1 in /usr/local/lib/python3.10/dist-packages (from markdown-it-py>=2.2.0->rich->keras>=3.2.0->tensorflow>=1.9.0->retina-face) (0.1.2)\n",
            "Downloading retina_face-0.0.17-py3-none-any.whl (25 kB)\n",
            "Installing collected packages: retina-face\n",
            "Successfully installed retina-face-0.0.17\n"
          ]
        }
      ],
      "source": [
        "!pip install retina-face"
      ]
    },
    {
      "cell_type": "code",
      "execution_count": null,
      "metadata": {
        "id": "-qbeOTVqt9Yw",
        "colab": {
          "base_uri": "https://localhost:8080/",
          "height": 563
        },
        "outputId": "d34304a3-c971-481b-b834-5a2b26df1757"
      },
      "outputs": [
        {
          "output_type": "stream",
          "name": "stderr",
          "text": [
            "/usr/local/lib/python3.10/dist-packages/timm/models/layers/__init__.py:48: FutureWarning: Importing from timm.models.layers is deprecated, please import via timm.layers\n",
            "  warnings.warn(f\"Importing from {__name__} is deprecated, please import via timm.layers\", FutureWarning)\n"
          ]
        },
        {
          "output_type": "error",
          "ename": "ImportError",
          "evalue": "cannot import name 'cached_download' from 'huggingface_hub' (/usr/local/lib/python3.10/dist-packages/huggingface_hub/__init__.py)",
          "traceback": [
            "\u001b[0;31m---------------------------------------------------------------------------\u001b[0m",
            "\u001b[0;31mImportError\u001b[0m                               Traceback (most recent call last)",
            "\u001b[0;32m<ipython-input-7-c932bd6d577d>\u001b[0m in \u001b[0;36m<cell line: 5>\u001b[0;34m()\u001b[0m\n\u001b[1;32m      3\u001b[0m \u001b[0;32mfrom\u001b[0m \u001b[0mtransparent_background\u001b[0m \u001b[0;32mimport\u001b[0m \u001b[0mRemover\u001b[0m\u001b[0;34m\u001b[0m\u001b[0;34m\u001b[0m\u001b[0m\n\u001b[1;32m      4\u001b[0m \u001b[0;32mimport\u001b[0m \u001b[0mtorch\u001b[0m\u001b[0;34m\u001b[0m\u001b[0;34m\u001b[0m\u001b[0m\n\u001b[0;32m----> 5\u001b[0;31m \u001b[0;32mfrom\u001b[0m \u001b[0mRealESRGAN\u001b[0m \u001b[0;32mimport\u001b[0m \u001b[0mRealESRGAN\u001b[0m\u001b[0;34m\u001b[0m\u001b[0;34m\u001b[0m\u001b[0m\n\u001b[0m\u001b[1;32m      6\u001b[0m \u001b[0;32mfrom\u001b[0m \u001b[0mPIL\u001b[0m \u001b[0;32mimport\u001b[0m \u001b[0mImageDraw\u001b[0m\u001b[0;34m,\u001b[0m \u001b[0mImageOps\u001b[0m\u001b[0;34m\u001b[0m\u001b[0;34m\u001b[0m\u001b[0m\n\u001b[1;32m      7\u001b[0m \u001b[0;32mimport\u001b[0m \u001b[0mdlib\u001b[0m\u001b[0;34m\u001b[0m\u001b[0;34m\u001b[0m\u001b[0m\n",
            "\u001b[0;32m/usr/local/lib/python3.10/dist-packages/RealESRGAN/__init__.py\u001b[0m in \u001b[0;36m<module>\u001b[0;34m\u001b[0m\n\u001b[0;32m----> 1\u001b[0;31m \u001b[0;32mfrom\u001b[0m \u001b[0;34m.\u001b[0m\u001b[0mmodel\u001b[0m \u001b[0;32mimport\u001b[0m \u001b[0mRealESRGAN\u001b[0m\u001b[0;34m\u001b[0m\u001b[0;34m\u001b[0m\u001b[0m\n\u001b[0m",
            "\u001b[0;32m/usr/local/lib/python3.10/dist-packages/RealESRGAN/model.py\u001b[0m in \u001b[0;36m<module>\u001b[0;34m\u001b[0m\n\u001b[1;32m      5\u001b[0m \u001b[0;32mimport\u001b[0m \u001b[0mnumpy\u001b[0m \u001b[0;32mas\u001b[0m \u001b[0mnp\u001b[0m\u001b[0;34m\u001b[0m\u001b[0;34m\u001b[0m\u001b[0m\n\u001b[1;32m      6\u001b[0m \u001b[0;32mimport\u001b[0m \u001b[0mcv2\u001b[0m\u001b[0;34m\u001b[0m\u001b[0;34m\u001b[0m\u001b[0m\n\u001b[0;32m----> 7\u001b[0;31m \u001b[0;32mfrom\u001b[0m \u001b[0mhuggingface_hub\u001b[0m \u001b[0;32mimport\u001b[0m \u001b[0mhf_hub_url\u001b[0m\u001b[0;34m,\u001b[0m \u001b[0mcached_download\u001b[0m\u001b[0;34m\u001b[0m\u001b[0;34m\u001b[0m\u001b[0m\n\u001b[0m\u001b[1;32m      8\u001b[0m \u001b[0;34m\u001b[0m\u001b[0m\n\u001b[1;32m      9\u001b[0m \u001b[0;32mfrom\u001b[0m \u001b[0;34m.\u001b[0m\u001b[0mrrdbnet_arch\u001b[0m \u001b[0;32mimport\u001b[0m \u001b[0mRRDBNet\u001b[0m\u001b[0;34m\u001b[0m\u001b[0;34m\u001b[0m\u001b[0m\n",
            "\u001b[0;31mImportError\u001b[0m: cannot import name 'cached_download' from 'huggingface_hub' (/usr/local/lib/python3.10/dist-packages/huggingface_hub/__init__.py)",
            "",
            "\u001b[0;31m---------------------------------------------------------------------------\u001b[0;32m\nNOTE: If your import is failing due to a missing package, you can\nmanually install dependencies using either !pip or !apt.\n\nTo view examples of installing some common dependencies, click the\n\"Open Examples\" button below.\n\u001b[0;31m---------------------------------------------------------------------------\u001b[0m\n"
          ],
          "errorDetails": {
            "actions": [
              {
                "action": "open_url",
                "actionText": "Open Examples",
                "url": "/notebooks/snippets/importing_libraries.ipynb"
              }
            ]
          }
        }
      ],
      "source": [
        "import cv2\n",
        "from PIL import Image\n",
        "from transparent_background import Remover\n",
        "import torch\n",
        "from RealESRGAN import RealESRGAN\n",
        "from PIL import ImageDraw, ImageOps\n",
        "import dlib\n",
        "import numpy as np\n",
        "from background_remove.faceorienter.faceorienter import FaceOrienter\n",
        "#import face_recognition\n",
        "import inspect\n",
        "from retinaface import RetinaFace\n",
        "import uuid\n",
        "import time\n",
        "import multiprocessing"
      ]
    },
    {
      "cell_type": "code",
      "execution_count": null,
      "metadata": {
        "id": "t1mHvf_rt9Wt"
      },
      "outputs": [],
      "source": [
        "def metric_to_pixel(value, metric = 'px', dpi=300):\n",
        "        if(metric == 'mm'):\n",
        "            return round((value * dpi) / 25.4)\n",
        "        if(metric == 'cm'):\n",
        "            return round((value * dpi) / 2.54)\n",
        "        if metric == 'in':\n",
        "            return round(value * dpi)\n",
        "        return value\n",
        "\n",
        "\n",
        "class ImageProcessor:\n",
        "    def __init__(self):\n",
        "        self.remover = Remover(ckpt='latest.pth', device=\"cpu\")\n",
        "        self.device = torch.device('cpu')\n",
        "        self.model = RealESRGAN(self.device, scale=4)\n",
        "        self.model.load_weights('background_remove/transparent-background/weights/RealESRGAN_x4.pth', download=True)\n",
        "\n",
        "    def remove_background(self, image_path):\n",
        "        img = Image.open(image_path).convert('RGB')\n",
        "        out = self.remover.process(img, type='white')\n",
        "        output_path = 'bg_remove.jpg'\n",
        "        Image.fromarray(out).save(output_path)\n",
        "        return output_path\n",
        "\n",
        "    def upscale_image(self, image_path):\n",
        "        path_to_image = image_path\n",
        "        image = Image.open(path_to_image)\n",
        "        sr_image = self.model.predict(image)\n",
        "        output_path = 'upscaled_sample.jpg'\n",
        "        sr_image.save(output_path)\n",
        "        return output_path\n",
        "\n",
        "    # def fix_orientation(self, image_path):\n",
        "    #     fo = FaceOrienter(image_path)\n",
        "    #     orientation = fo.predict_orientation()\n",
        "    #     fixed_image_path = 'fixed_orientation_sample.jpg'\n",
        "    #     fo.fix_orientation(fixed_image_path)\n",
        "    #     return fixed_image_path\n",
        "\n",
        "\n",
        "    def find_chin_height(self, img):\n",
        "\n",
        "        detector = dlib.get_frontal_face_detector()\n",
        "        predictor = dlib.shape_predictor(\"shape_predictor_68_face_landmarks.dat\")\n",
        "\n",
        "        # Load the image\n",
        "        #img = cv2.imread(\"sam05.jpg\")\n",
        "\n",
        "        # Convert the image to grayscale\n",
        "        gray = cv2.cvtColor(img, cv2.COLOR_BGR2GRAY)\n",
        "\n",
        "        # Detect faces in the image\n",
        "        faces = detector(gray)\n",
        "\n",
        "\n",
        "        max_y = -float('inf')\n",
        "        max_y_index = None\n",
        "\n",
        "        # Loop through each face found\n",
        "        for face in faces:\n",
        "            # Detect facial landmarks\n",
        "            landmarks = predictor(gray, face)\n",
        "\n",
        "            # Loop through each landmark point\n",
        "            for n in range(0, 68):\n",
        "                x = landmarks.part(n).x\n",
        "                y = landmarks.part(n).y\n",
        "\n",
        "                # Update maximum y-coordinate and its corresponding landmark index if a higher y-coordinate is found\n",
        "                if y > max_y:\n",
        "                    max_y = y\n",
        "                    max_y_index = n\n",
        "\n",
        "        return max_y\n",
        "\n",
        "\n",
        "    def find_top_head(self, img):\n",
        "        # Convert the image to grayscale\n",
        "        gray = cv2.cvtColor(np.array(img), cv2.COLOR_BGR2GRAY)\n",
        "\n",
        "        # Apply Canny edge detection\n",
        "        edges = cv2.Canny(gray, 20, 50)\n",
        "\n",
        "        # Find contours in the edge image\n",
        "        contours, _ = cv2.findContours(edges, cv2.RETR_EXTERNAL, cv2.CHAIN_APPROX_SIMPLE)\n",
        "\n",
        "        # Merge all contour arrays into a single array\n",
        "        merged_contours = np.concatenate(contours)\n",
        "\n",
        "        return merged_contours[-1][0][1]\n",
        "\n",
        "\n",
        "    def fix_face_angle(self, img):\n",
        "        faces = RetinaFace.detect_faces(np.array(img))\n",
        "        face_landmarks = faces['face_1']['landmarks']\n",
        "\n",
        "        if len(face_landmarks) == 0:\n",
        "            print(\"No face detected in the image.\")\n",
        "            return None\n",
        "\n",
        "        left_eye = face_landmarks['left_eye']\n",
        "        right_eye = face_landmarks['right_eye']\n",
        "        dx = left_eye[0] - right_eye[0]\n",
        "        dy = left_eye[1] - right_eye[1]\n",
        "\n",
        "        angle = np.degrees(np.arctan2(dy, dx))\n",
        "        return img.rotate(angle, expand=True, fillcolor='white')\n",
        "\n",
        "    def find_eye_to_eye(self, img):\n",
        "        faces = RetinaFace.detect_faces(img)\n",
        "        face_landmarks = faces['face_1']['landmarks']\n",
        "\n",
        "        if len(face_landmarks) == 0:\n",
        "            print(\"No face detected in the image.\")\n",
        "            return None\n",
        "\n",
        "        left_eye = face_landmarks['left_eye']\n",
        "        right_eye = face_landmarks['right_eye']\n",
        "        dx = left_eye[0] - right_eye[0]\n",
        "        dy = left_eye[1] - right_eye[1]\n",
        "\n",
        "        return dx\n",
        "\n",
        "\n",
        "    def find_eye_height(self, img):\n",
        "        faces = RetinaFace.detect_faces(img)\n",
        "        face_landmarks = faces['face_1']['landmarks']\n",
        "\n",
        "        if len(face_landmarks) == 0:\n",
        "            print(\"No face detected in the image.\")\n",
        "            return None\n",
        "\n",
        "        left_eye = face_landmarks['left_eye']\n",
        "\n",
        "        return left_eye[1]\n",
        "\n",
        "    def rotate_and_resize_face(self, image_path, face_height, distance_top, eye_to_eye, eye_to_bottom, eye_to_chin, metric='px'):\n",
        "\n",
        "        face_height = metric_to_pixel(face_height, metric)\n",
        "        distance_top = metric_to_pixel(distance_top, metric)\n",
        "        eye_to_bottom = metric_to_pixel(eye_to_bottom, metric)\n",
        "        eye_to_eye = metric_to_pixel(eye_to_eye, metric)\n",
        "        eye_to_chin = metric_to_pixel(eye_to_chin, metric)\n",
        "\n",
        "        image = Image.open(image_path).convert('RGB')\n",
        "\n",
        "        rotated_image = self.fix_face_angle(image)\n",
        "\n",
        "        top_head = self.find_top_head(np.array(rotated_image))\n",
        "\n",
        "        ratio_to_resize_head = 0\n",
        "        if(eye_to_eye):\n",
        "            current_eye_to_eye = self.find_eye_to_eye(np.array(rotated_image))\n",
        "            if current_eye_to_eye == 0:\n",
        "                print(\"Invalid face landmarks. Could not calculate the current distance.\")\n",
        "                return None\n",
        "            ratio_to_resize_head = (eye_to_eye) / current_eye_to_eye\n",
        "        elif(eye_to_chin):\n",
        "          chin_height = self.find_chin_height(np.array(rotated_image))\n",
        "          eye_height = self.find_eye_height(np.array(rotated_image))\n",
        "          current_chin_to_eye = chin_height - eye_height\n",
        "          if current_chin_to_eye == 0:\n",
        "              print(\"Invalid face landmarks. Could not calculate the current distance.\")\n",
        "              return None\n",
        "          ratio_to_resize_head = (eye_to_chin) / current_chin_to_eye\n",
        "        else:\n",
        "            chin_height = self.find_chin_height(np.array(rotated_image))\n",
        "            current_face_height = chin_height - top_head\n",
        "            if current_face_height == 0:\n",
        "                print(\"Invalid face landmarks. Could not calculate the current distance.\")\n",
        "                return None\n",
        "            ratio_to_resize_head = (face_height) / current_face_height\n",
        "\n",
        "\n",
        "\n",
        "        # Resize the rotated image based on the ratio\n",
        "        new_width = int(rotated_image.width * ratio_to_resize_head)\n",
        "        new_height = int(rotated_image.height * ratio_to_resize_head)\n",
        "\n",
        "        resized_image = rotated_image.resize((new_width, new_height))\n",
        "\n",
        "\n",
        "       # Convert the image to grayscale\n",
        "        gray = cv2.cvtColor(np.array(resized_image), cv2.COLOR_BGR2GRAY)\n",
        "\n",
        "        # Apply Canny edge detection\n",
        "        edges = cv2.Canny(gray, 20, 50)\n",
        "\n",
        "        # Find contours in the edge image\n",
        "        contours, _ = cv2.findContours(edges, cv2.RETR_EXTERNAL, cv2.CHAIN_APPROX_SIMPLE)\n",
        "\n",
        "        # Merge all contour arrays into a single array\n",
        "        merged_contours = np.concatenate(contours)\n",
        "\n",
        "        top_head = merged_contours[-1][0][1]\n",
        "\n",
        "        faces2 = RetinaFace.detect_faces(np.array(resized_image))\n",
        "\n",
        "        landmarks2 = faces2['face_1']['landmarks']\n",
        "\n",
        "\n",
        "        nose_tip_x = landmarks2['nose'][0]\n",
        "        nose_tip_y = landmarks2['nose'][1]\n",
        "        image_width, image_height = resized_image.size\n",
        "        target_x = image_width // 2\n",
        "\n",
        "        if (eye_to_bottom):\n",
        "          current_right_eye_height = landmarks2['left_eye'][1]\n",
        "          translate_y = ((image_height - int(current_right_eye_height)) - (eye_to_bottom))\n",
        "        else:\n",
        "          translate_y = (distance_top - top_head)\n",
        "\n",
        "\n",
        "        translate_x = target_x - int(nose_tip_x)\n",
        "\n",
        "\n",
        "        # Apply translation to the rotated image\n",
        "        translated_image = Image.new('RGB', (image_width, image_height), 'white')\n",
        "        translated_image.paste(resized_image, (int(translate_x), int(translate_y)))\n",
        "\n",
        "\n",
        "\n",
        "        rotate_and_resize_face_path = 'rotate_and_resize_face.jpg'\n",
        "        translated_image.save(rotate_and_resize_face_path, format='JPEG', quality=100)\n",
        "        return rotate_and_resize_face_path\n",
        "\n",
        "\n",
        "    def resize_and_shift_image(self, image_path, target_width, target_height, top_cut, shift_x_pixels=0, shift_y_pixels=0, metric=\"px\"):\n",
        "\n",
        "\n",
        "        target_width = metric_to_pixel(target_width, metric)\n",
        "        target_height = metric_to_pixel(target_height, metric)\n",
        "\n",
        "        # Open the image\n",
        "        image = Image.open(image_path)\n",
        "\n",
        "        # Calculate the current width and height\n",
        "        current_width, current_height = image.size\n",
        "\n",
        "        # Calculate the difference between target and current width and height\n",
        "        width_diff = current_width - target_width\n",
        "        height_diff = current_height - target_height\n",
        "\n",
        "        if width_diff > 0:\n",
        "            # Cut the extra width equally from both sides\n",
        "            left_cut = width_diff // 2\n",
        "            right_cut = width_diff - left_cut\n",
        "            image = image.crop((left_cut + shift_x_pixels, 0, current_width - (right_cut - shift_x_pixels), current_height))\n",
        "        elif width_diff < 0:\n",
        "            # Add extra width equally on both sides as white pixels\n",
        "            left_pad = abs(width_diff) // 2\n",
        "            right_pad = abs(width_diff) - left_pad\n",
        "            image = ImageOps.expand(image, border=(left_pad, 0, right_pad, 0), fill='white')\n",
        "\n",
        "        if height_diff > 0:\n",
        "            # Cut the extra height equally from both top and bottom\n",
        "            if top_cut:\n",
        "              image = image.crop((0, height_diff, image.width, current_height))\n",
        "            else:\n",
        "              image = image.crop((0, 0, image.width, current_height - (height_diff)))\n",
        "\n",
        "        elif height_diff < 0:\n",
        "            # Add extra height equally on both top and bottom as white pixels\n",
        "            pad = abs(height_diff)\n",
        "            if top_cut:\n",
        "              image = ImageOps.expand(image, border=(0, pad, 0, 0), fill='white')\n",
        "            else:\n",
        "              image = ImageOps.expand(image, border=(0, 0, 0, pad), fill='white')\n",
        "\n",
        "\n",
        "        # Resize the image to the target dimensions\n",
        "        resized_image = image.resize((target_width, target_height))\n",
        "\n",
        "\n",
        "        resize_and_shift_image_path = 'resize_and_shift_image_path.jpg'\n",
        "        resized_image.save(resize_and_shift_image_path, format='JPEG', quality=100)\n",
        "        return resize_and_shift_image_path\n",
        "\n",
        "    def bg_color(self, image_path, color=0):\n",
        "\n",
        "        output_path = 'result.jpg'\n",
        "        img = Image.open(image_path).convert('RGB')\n",
        "\n",
        "        if(color):\n",
        "          out = self.remover.process(img, type=color)\n",
        "        else:\n",
        "          output_path = 'result.png'\n",
        "          out = self.remover.process(img)\n",
        "\n",
        "\n",
        "        Image.fromarray(out).save(output_path)\n",
        "        return output_path\n",
        "\n",
        "    # def change_brightness(self, image_path, alpha = 1.0, beta = 0):\n",
        "    #   image = cv2.imread(image_path)\n",
        "\n",
        "    #   manual_result = cv2.convertScaleAbs(image, alpha=alpha, beta=beta)\n",
        "    #   cv2.imwrite('result.jpg', manual_result)\n"
      ]
    },
    {
      "cell_type": "code",
      "source": [],
      "metadata": {
        "id": "ZeM1xEgQa2BQ"
      },
      "execution_count": null,
      "outputs": []
    },
    {
      "cell_type": "code",
      "execution_count": null,
      "metadata": {
        "id": "cjjXvhrhCf-Z",
        "colab": {
          "base_uri": "https://localhost:8080/",
          "height": 280
        },
        "outputId": "ccc60ca8-f400-4be1-fa89-033192790862"
      },
      "outputs": [
        {
          "output_type": "stream",
          "name": "stdout",
          "text": [
            "Settings -> Mode=base, Device=cpu, Torchscript=disabled\n"
          ]
        },
        {
          "output_type": "error",
          "ename": "NameError",
          "evalue": "name 'RealESRGAN' is not defined",
          "traceback": [
            "\u001b[0;31m---------------------------------------------------------------------------\u001b[0m",
            "\u001b[0;31mNameError\u001b[0m                                 Traceback (most recent call last)",
            "\u001b[0;32m<ipython-input-10-3cbe87b7948a>\u001b[0m in \u001b[0;36m<cell line: 1>\u001b[0;34m()\u001b[0m\n\u001b[0;32m----> 1\u001b[0;31m \u001b[0mprocessor\u001b[0m \u001b[0;34m=\u001b[0m \u001b[0mImageProcessor\u001b[0m\u001b[0;34m(\u001b[0m\u001b[0;34m)\u001b[0m\u001b[0;34m\u001b[0m\u001b[0;34m\u001b[0m\u001b[0m\n\u001b[0m",
            "\u001b[0;32m<ipython-input-9-c86556d0d36c>\u001b[0m in \u001b[0;36m__init__\u001b[0;34m(self)\u001b[0m\n\u001b[1;32m     13\u001b[0m         \u001b[0mself\u001b[0m\u001b[0;34m.\u001b[0m\u001b[0mremover\u001b[0m \u001b[0;34m=\u001b[0m \u001b[0mRemover\u001b[0m\u001b[0;34m(\u001b[0m\u001b[0mckpt\u001b[0m\u001b[0;34m=\u001b[0m\u001b[0;34m'latest.pth'\u001b[0m\u001b[0;34m,\u001b[0m \u001b[0mdevice\u001b[0m\u001b[0;34m=\u001b[0m\u001b[0;34m\"cpu\"\u001b[0m\u001b[0;34m)\u001b[0m\u001b[0;34m\u001b[0m\u001b[0;34m\u001b[0m\u001b[0m\n\u001b[1;32m     14\u001b[0m         \u001b[0mself\u001b[0m\u001b[0;34m.\u001b[0m\u001b[0mdevice\u001b[0m \u001b[0;34m=\u001b[0m \u001b[0mtorch\u001b[0m\u001b[0;34m.\u001b[0m\u001b[0mdevice\u001b[0m\u001b[0;34m(\u001b[0m\u001b[0;34m'cpu'\u001b[0m\u001b[0;34m)\u001b[0m\u001b[0;34m\u001b[0m\u001b[0;34m\u001b[0m\u001b[0m\n\u001b[0;32m---> 15\u001b[0;31m         \u001b[0mself\u001b[0m\u001b[0;34m.\u001b[0m\u001b[0mmodel\u001b[0m \u001b[0;34m=\u001b[0m \u001b[0mRealESRGAN\u001b[0m\u001b[0;34m(\u001b[0m\u001b[0mself\u001b[0m\u001b[0;34m.\u001b[0m\u001b[0mdevice\u001b[0m\u001b[0;34m,\u001b[0m \u001b[0mscale\u001b[0m\u001b[0;34m=\u001b[0m\u001b[0;36m4\u001b[0m\u001b[0;34m)\u001b[0m\u001b[0;34m\u001b[0m\u001b[0;34m\u001b[0m\u001b[0m\n\u001b[0m\u001b[1;32m     16\u001b[0m         \u001b[0mself\u001b[0m\u001b[0;34m.\u001b[0m\u001b[0mmodel\u001b[0m\u001b[0;34m.\u001b[0m\u001b[0mload_weights\u001b[0m\u001b[0;34m(\u001b[0m\u001b[0;34m'background_remove/transparent-background/weights/RealESRGAN_x4.pth'\u001b[0m\u001b[0;34m,\u001b[0m \u001b[0mdownload\u001b[0m\u001b[0;34m=\u001b[0m\u001b[0;32mTrue\u001b[0m\u001b[0;34m)\u001b[0m\u001b[0;34m\u001b[0m\u001b[0;34m\u001b[0m\u001b[0m\n\u001b[1;32m     17\u001b[0m \u001b[0;34m\u001b[0m\u001b[0m\n",
            "\u001b[0;31mNameError\u001b[0m: name 'RealESRGAN' is not defined"
          ]
        }
      ],
      "source": [
        "processor = ImageProcessor()"
      ]
    },
    {
      "cell_type": "code",
      "execution_count": null,
      "metadata": {
        "id": "MBfH5E_1t9Uf",
        "colab": {
          "base_uri": "https://localhost:8080/",
          "height": 211
        },
        "outputId": "37b3169c-7296-4eba-f0dc-384a22c32d5d"
      },
      "outputs": [
        {
          "output_type": "error",
          "ename": "NameError",
          "evalue": "name 'processor' is not defined",
          "traceback": [
            "\u001b[0;31m---------------------------------------------------------------------------\u001b[0m",
            "\u001b[0;31mNameError\u001b[0m                                 Traceback (most recent call last)",
            "\u001b[0;32m<ipython-input-11-f327d2b8953e>\u001b[0m in \u001b[0;36m<cell line: 4>\u001b[0;34m()\u001b[0m\n\u001b[1;32m      2\u001b[0m \u001b[0;34m\u001b[0m\u001b[0m\n\u001b[1;32m      3\u001b[0m \u001b[0;31m# Remove background\u001b[0m\u001b[0;34m\u001b[0m\u001b[0;34m\u001b[0m\u001b[0m\n\u001b[0;32m----> 4\u001b[0;31m \u001b[0moutput_path\u001b[0m \u001b[0;34m=\u001b[0m \u001b[0mprocessor\u001b[0m\u001b[0;34m.\u001b[0m\u001b[0mremove_background\u001b[0m\u001b[0;34m(\u001b[0m\u001b[0mimage_path\u001b[0m\u001b[0;34m)\u001b[0m\u001b[0;34m\u001b[0m\u001b[0;34m\u001b[0m\u001b[0m\n\u001b[0m\u001b[1;32m      5\u001b[0m \u001b[0;34m\u001b[0m\u001b[0m\n\u001b[1;32m      6\u001b[0m \u001b[0;31m# Upscale image\u001b[0m\u001b[0;34m\u001b[0m\u001b[0;34m\u001b[0m\u001b[0m\n",
            "\u001b[0;31mNameError\u001b[0m: name 'processor' is not defined"
          ]
        }
      ],
      "source": [
        "image_path = '_MG_0781.JPG'\n",
        "\n",
        "# Remove background\n",
        "output_path = processor.remove_background(image_path)\n",
        "\n",
        "# Upscale image\n",
        "#output_path = processor.upscale_image(image_path)\n",
        "\n",
        "# Fix orientation\n",
        "#output_path = processor.fix_orientation(output_path)\n",
        "\n",
        "# Rotate and resize face\n",
        "output_path = processor.rotate_and_resize_face(output_path, face_height=400, distance_top=5, eye_to_eye=0, eye_to_bottom=0, eye_to_chin=18, metric=\"mm\")\n",
        "\n",
        "#shift\n",
        "output_path = processor.resize_and_shift_image(output_path, target_width=40, target_height=60, top_cut=0, shift_x_pixels=0, shift_y_pixels=0, metric=\"mm\")\n",
        "\n",
        "#bg_color (add color if need. like, color='green')\n",
        "#  به صورت پیش فرض پس زمینه شفاف می باشد در صورت نیاز یک پراپرتی به نام color داخل پرانتز اضافه کنید و مقدار آن را برای مثال 'green' قرار دهید\n",
        "output_path = processor.bg_color(output_path)\n",
        "\n",
        "#result\n",
        "#output_path = processor.change_brightness(output_path, alpha = 1.00, beta = 10)"
      ]
    },
    {
      "cell_type": "code",
      "source": [
        "\n",
        "# landmarks = faces['face_1'][\"landmarks\"]\n",
        "# print(landmarks)\n",
        "# for landmark_name, point in landmarks.items():\n",
        "#     x, y = map(int, point)  # Convert coordinates to integers\n",
        "#     cv2.circle(img, (x, y), 25, (0, 255, 0), 2)\n",
        "\n",
        "# # Save or display the image with landmarks\n",
        "# cv2.imwrite(\"output_image_with_landmarks.jpg\", img)"
      ],
      "metadata": {
        "id": "OnTYD8MSq38M"
      },
      "execution_count": null,
      "outputs": []
    },
    {
      "cell_type": "code",
      "source": [],
      "metadata": {
        "id": "K0wl86iLyfE9"
      },
      "execution_count": null,
      "outputs": []
    },
    {
      "cell_type": "code",
      "source": [
        "# import cv2\n",
        "# import dlib\n",
        "\n",
        "# # Load the pre-trained face detector and landmark predictor\n",
        "# detector = dlib.get_frontal_face_detector()\n",
        "# predictor = dlib.shape_predictor(\"shape_predictor_68_face_landmarks.dat\")\n",
        "\n",
        "# # Load the image\n",
        "# img = cv2.imread(\"_MG_0781.JPG\")\n",
        "\n",
        "# # Convert the image to grayscale\n",
        "# gray = cv2.cvtColor(img, cv2.COLOR_BGR2GRAY)\n",
        "\n",
        "# # Detect faces in the image\n",
        "# faces = detector(gray)\n",
        "\n",
        "\n",
        "# max_y = -float('inf')\n",
        "# max_y_index = None\n",
        "\n",
        "# # Loop through each face found\n",
        "# for face in faces:\n",
        "#     # Detect facial landmarks\n",
        "#     landmarks = predictor(gray, face)\n",
        "\n",
        "#     # Loop through each landmark point\n",
        "#     for n in range(0, 68):\n",
        "#         x = landmarks.part(n).x\n",
        "#         y = landmarks.part(n).y\n",
        "\n",
        "#         # Update maximum y-coordinate and its corresponding landmark index if a higher y-coordinate is found\n",
        "#         if y > max_y:\n",
        "#             max_y = y\n",
        "#             max_y_index = n\n",
        "\n",
        "# # Draw a circle on the image at the landmark with the maximum y-coordinate\n",
        "# if max_y_index is not None:\n",
        "#     x = landmarks.part(max_y_index).x\n",
        "#     y = landmarks.part(max_y_index).y\n",
        "#     cv2.circle(img, (x, y), 1, (0, 255, 0), -1)\n",
        "\n",
        "# cv2.imwrite(\"output_image_with_landmarks.jpg\", img)"
      ],
      "metadata": {
        "id": "zfxWQkCSwsgy"
      },
      "execution_count": null,
      "outputs": []
    },
    {
      "cell_type": "code",
      "source": [
        "# !wget https://huggingface.co/spaces/asdasdasdasd/Face-forgery-detection/resolve/ccfc24642e0210d4d885bc7b3dbc9a68ed948ad6/shape_predictor_68_face_landmarks.dat"
      ],
      "metadata": {
        "id": "hiz4TnBBBZkS"
      },
      "execution_count": null,
      "outputs": []
    },
    {
      "cell_type": "code",
      "source": [],
      "metadata": {
        "id": "ZBBCTR2lBb1r"
      },
      "execution_count": null,
      "outputs": []
    }
  ],
  "metadata": {
    "colab": {
      "provenance": [],
      "mount_file_id": "1hItH8ElP04yie8vOegl_U0hqHsBEKp30",
      "authorship_tag": "ABX9TyPbRpnxq957sAeSbmWxQigx",
      "include_colab_link": true
    },
    "kernelspec": {
      "display_name": "Python 3",
      "name": "python3"
    },
    "language_info": {
      "name": "python"
    }
  },
  "nbformat": 4,
  "nbformat_minor": 0
}